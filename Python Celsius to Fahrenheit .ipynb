{
 "cells": [
  {
   "cell_type": "markdown",
   "metadata": {},
   "source": [
    "# Converting Celsius to Fahrenheit"
   ]
  },
  {
   "cell_type": "code",
   "execution_count": 3,
   "metadata": {},
   "outputs": [
    {
     "name": "stdout",
     "output_type": "stream",
     "text": [
      "-40 degrees Celsius = -40 degrees Fahrenheit\n",
      "-10 degrees Celsius = 14 degrees Fahrenheit\n",
      "0 degrees Celsius = 32 degrees Fahrenheit\n",
      "8 degrees Celsius = 46 degrees Fahrenheit\n",
      "15 degrees Celsius = 59 degrees Fahrenheit\n",
      "22 degrees Celsius = 72 degrees Fahrenheit\n",
      "38 degrees Celsius = 100 degrees Fahrenheit\n"
     ]
    }
   ],
   "source": [
    "#input Data\n",
    "celsius = -40, -10,  0,  8, 15, 22,  38\n",
    "#output Data\n",
    "fahrenheit = -40,  14, 32, 46, 59, 72, 100\n",
    "\n",
    "for i,c in enumerate(celsius):\n",
    "  print(\"{} degrees Celsius = {} degrees Fahrenheit\".format(c, fahrenheit[i]))"
   ]
  },
  {
   "cell_type": "code",
   "execution_count": 6,
   "metadata": {},
   "outputs": [],
   "source": [
    "def conver_to_Fahren(Celsius):\n",
    "    converter = (Celsius * 1.8 + 32) \n",
    "    return converter"
   ]
  },
  {
   "cell_type": "code",
   "execution_count": 7,
   "metadata": {},
   "outputs": [
    {
     "data": {
      "text/plain": [
       "14.0"
      ]
     },
     "execution_count": 7,
     "metadata": {},
     "output_type": "execute_result"
    }
   ],
   "source": [
    "conver_to_Fahren(-10)"
   ]
  }
 ],
 "metadata": {
  "kernelspec": {
   "display_name": "Python 3",
   "language": "python",
   "name": "python3"
  },
  "language_info": {
   "codemirror_mode": {
    "name": "ipython",
    "version": 3
   },
   "file_extension": ".py",
   "mimetype": "text/x-python",
   "name": "python",
   "nbconvert_exporter": "python",
   "pygments_lexer": "ipython3",
   "version": "3.7.1"
  }
 },
 "nbformat": 4,
 "nbformat_minor": 2
}
