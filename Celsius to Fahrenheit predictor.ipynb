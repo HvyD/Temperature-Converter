{
 "cells": [
  {
   "cell_type": "code",
   "execution_count": 1,
   "metadata": {
    "colab": {},
    "colab_type": "code",
    "id": "TX0sNnm2XxJH"
   },
   "outputs": [],
   "source": [
    "import __future__ \n",
    "import tensorflow as tf\n",
    "import numpy as np"
   ]
  },
  {
   "cell_type": "code",
   "execution_count": 2,
   "metadata": {
    "colab": {},
    "colab_type": "code",
    "id": "cBqYd1G2X67n"
   },
   "outputs": [],
   "source": [
    "c = np.array([-40, -10,  0,  8, 15, 22,  38],  dtype=float)\n",
    "f = np.array([-40,  14, 32, 46, 59, 72, 100],  dtype=float)"
   ]
  },
  {
   "cell_type": "code",
   "execution_count": 5,
   "metadata": {
    "colab": {
     "base_uri": "https://localhost:8080/",
     "height": 34
    },
    "colab_type": "code",
    "executionInfo": {
     "elapsed": 7737,
     "status": "ok",
     "timestamp": 1555289209925,
     "user": {
      "displayName": "Scott W. Davis",
      "photoUrl": "https://lh4.googleusercontent.com/-rIWDs5ajTv4/AAAAAAAAAAI/AAAAAAAAAGQ/2i99WCf19fg/s64/photo.jpg",
      "userId": "05585333404075919815"
     },
     "user_tz": 420
    },
    "id": "Js1RhWf-YVk2",
    "outputId": "560b0626-bbfc-45be-d775-bba49a5f1489"
   },
   "outputs": [
    {
     "data": {
      "text/plain": [
       "<tensorflow.python.keras.callbacks.History at 0x7f0c483724e0>"
      ]
     },
     "execution_count": 5,
     "metadata": {},
     "output_type": "execute_result"
    }
   ],
   "source": [
    "l0 = tf.keras.layers.Dense(units= 25, input_shape=[1])\n",
    "l1 = tf.keras.layers.Dense(units=25)\n",
    "l2 =tf.keras.layers.Dense(units=25)\n",
    "l3= tf.keras.layers.Dense(units=1)\n",
    "model = tf.keras.Sequential([l0, l1, l2, l3])\n",
    "model.compile(loss='mean_squared_error', optimizer=tf.keras.optimizers.Adam(0.2))\n",
    "model.fit(c,f, epochs=5000,verbose=False)"
   ]
  },
  {
   "cell_type": "code",
   "execution_count": 6,
   "metadata": {
    "colab": {
     "base_uri": "https://localhost:8080/",
     "height": 134
    },
    "colab_type": "code",
    "executionInfo": {
     "elapsed": 8634,
     "status": "ok",
     "timestamp": 1555289192296,
     "user": {
      "displayName": "Scott W. Davis",
      "photoUrl": "https://lh4.googleusercontent.com/-rIWDs5ajTv4/AAAAAAAAAAI/AAAAAAAAAGQ/2i99WCf19fg/s64/photo.jpg",
      "userId": "05585333404075919815"
     },
     "user_tz": 420
    },
    "id": "LQkB1rBmY_8e",
    "outputId": "8521e1b2-5520-4e0a-cb01-cd80731da1d6"
   },
   "outputs": [
    {
     "data": {
      "text/plain": [
       "array([[-39.965443],\n",
       "       [ 13.973036],\n",
       "       [ 31.95253 ],\n",
       "       [ 46.33612 ],\n",
       "       [ 58.921772],\n",
       "       [ 71.507416],\n",
       "       [100.27461 ]], dtype=float32)"
      ]
     },
     "execution_count": 6,
     "metadata": {},
     "output_type": "execute_result"
    }
   ],
   "source": [
    "model.predict([-40, -10,  0,  8, 15, 22,  38])"
   ]
  },
  {
   "cell_type": "code",
   "execution_count": null,
   "metadata": {},
   "outputs": [],
   "source": []
  }
 ],
 "metadata": {
  "colab": {
   "collapsed_sections": [],
   "name": "Celsius to Fahrenheit predictor.ipynb",
   "provenance": [
    {
     "file_id": "16Hi6kWMa_uh3LbKE7Pv6D5hWzG6LbFu2",
     "timestamp": 1555289269547
    }
   ],
   "version": "0.3.2"
  },
  "kernelspec": {
   "display_name": "Python 3",
   "language": "python",
   "name": "python3"
  },
  "language_info": {
   "codemirror_mode": {
    "name": "ipython",
    "version": 3
   },
   "file_extension": ".py",
   "mimetype": "text/x-python",
   "name": "python",
   "nbconvert_exporter": "python",
   "pygments_lexer": "ipython3",
   "version": "3.7.1"
  }
 },
 "nbformat": 4,
 "nbformat_minor": 1
}
