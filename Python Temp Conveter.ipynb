{
 "cells": [
  {
   "cell_type": "markdown",
   "metadata": {},
   "source": [
    "# Converting Celsius to Fahrenheit"
   ]
  },
  {
   "cell_type": "code",
   "execution_count": 3,
   "metadata": {},
   "outputs": [
    {
     "name": "stdout",
     "output_type": "stream",
     "text": [
      "-40 degrees Celsius = -40 degrees Fahrenheit\n",
      "-10 degrees Celsius = 14 degrees Fahrenheit\n",
      "0 degrees Celsius = 32 degrees Fahrenheit\n",
      "8 degrees Celsius = 46 degrees Fahrenheit\n",
      "15 degrees Celsius = 59 degrees Fahrenheit\n",
      "22 degrees Celsius = 72 degrees Fahrenheit\n",
      "38 degrees Celsius = 100 degrees Fahrenheit\n"
     ]
    }
   ],
   "source": [
    "#input Data\n",
    "celsius = -40, -10,  0,  8, 15, 22,  38\n",
    "#output Data\n",
    "fahrenheit = -40,  14, 32, 46, 59, 72, 100\n",
    "\n",
    "for i,c in enumerate(celsius):\n",
    "  print(\"{} degrees Celsius = {} degrees Fahrenheit\".format(c, fahrenheit[i]))"
   ]
  },
  {
   "cell_type": "code",
   "execution_count": 6,
   "metadata": {},
   "outputs": [],
   "source": [
    "def conver_to_Fahren(Celsius):\n",
    "    converter = (Celsius * 1.8 + 32) \n",
    "    return converter"
   ]
  },
  {
   "cell_type": "code",
   "execution_count": 8,
   "metadata": {},
   "outputs": [
    {
     "data": {
      "text/plain": [
       "14.0"
      ]
     },
     "execution_count": 8,
     "metadata": {},
     "output_type": "execute_result"
    }
   ],
   "source": [
    "conver_to_Fahren(-10)"
   ]
  },
  {
   "cell_type": "markdown",
   "metadata": {},
   "source": [
    "# Converting Fahrenheit to Celsius "
   ]
  },
  {
   "cell_type": "code",
   "execution_count": 20,
   "metadata": {},
   "outputs": [
    {
     "name": "stdout",
     "output_type": "stream",
     "text": [
      "-40 degrees Fahrenheit = -40 degrees celsius\n",
      "14 degrees Fahrenheit = -10 degrees celsius\n",
      "32 degrees Fahrenheit = 0 degrees celsius\n",
      "46 degrees Fahrenheit = 8 degrees celsius\n",
      "59 degrees Fahrenheit = 15 degrees celsius\n",
      "72 degrees Fahrenheit = 22 degrees celsius\n",
      "100 degrees Fahrenheit = 38 degrees celsius\n"
     ]
    }
   ],
   "source": [
    "#input Data\n",
    "fahrenheit = -40,  14, 32, 46, 59, 72, 100\n",
    "\n",
    "#output Data\n",
    "celsius = -40, -10,  0,  8, 15, 22,  38\n",
    "\n",
    "\n",
    "for i,c in enumerate(fahrenheit):\n",
    "  print(\"{} degrees Fahrenheit = {} degrees celsius\".format(c, celsius[i]))"
   ]
  },
  {
   "cell_type": "code",
   "execution_count": 18,
   "metadata": {},
   "outputs": [],
   "source": [
    "def conver_to_Celsi(Fahren):\n",
    "    converter = (Fahren - 32) / 1.8 \n",
    "    return converter"
   ]
  },
  {
   "cell_type": "code",
   "execution_count": 19,
   "metadata": {},
   "outputs": [
    {
     "data": {
      "text/plain": [
       "-10.0"
      ]
     },
     "execution_count": 19,
     "metadata": {},
     "output_type": "execute_result"
    }
   ],
   "source": [
    "conver_to_Celsi(14)"
   ]
  }
 ],
 "metadata": {
  "kernelspec": {
   "display_name": "Python 3",
   "language": "python",
   "name": "python3"
  },
  "language_info": {
   "codemirror_mode": {
    "name": "ipython",
    "version": 3
   },
   "file_extension": ".py",
   "mimetype": "text/x-python",
   "name": "python",
   "nbconvert_exporter": "python",
   "pygments_lexer": "ipython3",
   "version": "3.7.1"
  }
 },
 "nbformat": 4,
 "nbformat_minor": 2
}
